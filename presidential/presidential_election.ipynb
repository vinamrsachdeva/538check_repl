{
 "cells": [
  {
   "cell_type": "code",
   "execution_count": 195,
   "id": "15b89645-2bb7-4390-aad2-c280d523c3bb",
   "metadata": {},
   "outputs": [],
   "source": [
    "import numpy as np\n",
    "import pandas as pd\n",
    "import matplotlib.pyplot as plt"
   ]
  },
  {
   "cell_type": "code",
   "execution_count": 196,
   "id": "394c87a6-60e9-4a5f-a133-8b6c62413314",
   "metadata": {},
   "outputs": [
    {
     "data": {
      "text/html": [
       "<div>\n",
       "<style scoped>\n",
       "    .dataframe tbody tr th:only-of-type {\n",
       "        vertical-align: middle;\n",
       "    }\n",
       "\n",
       "    .dataframe tbody tr th {\n",
       "        vertical-align: top;\n",
       "    }\n",
       "\n",
       "    .dataframe thead th {\n",
       "        text-align: right;\n",
       "    }\n",
       "</style>\n",
       "<table border=\"1\" class=\"dataframe\">\n",
       "  <thead>\n",
       "    <tr style=\"text-align: right;\">\n",
       "      <th></th>\n",
       "      <th>year</th>\n",
       "      <th>office</th>\n",
       "      <th>state</th>\n",
       "      <th>district</th>\n",
       "      <th>election_date</th>\n",
       "      <th>forecast_date</th>\n",
       "      <th>forecast_type</th>\n",
       "      <th>party</th>\n",
       "      <th>candidate</th>\n",
       "      <th>projected_voteshare</th>\n",
       "      <th>actual_voteshare</th>\n",
       "      <th>probwin</th>\n",
       "      <th>probwin_outcome</th>\n",
       "    </tr>\n",
       "  </thead>\n",
       "  <tbody>\n",
       "    <tr>\n",
       "      <th>0</th>\n",
       "      <td>2020</td>\n",
       "      <td>President</td>\n",
       "      <td>WY</td>\n",
       "      <td>NaN</td>\n",
       "      <td>2020-11-03</td>\n",
       "      <td>2020-11-03</td>\n",
       "      <td>polls-plus</td>\n",
       "      <td>R</td>\n",
       "      <td>Trump</td>\n",
       "      <td>65.77760</td>\n",
       "      <td>69.936227</td>\n",
       "      <td>0.998375</td>\n",
       "      <td>1</td>\n",
       "    </tr>\n",
       "    <tr>\n",
       "      <th>1</th>\n",
       "      <td>2020</td>\n",
       "      <td>President</td>\n",
       "      <td>WY</td>\n",
       "      <td>NaN</td>\n",
       "      <td>2020-11-03</td>\n",
       "      <td>2020-11-03</td>\n",
       "      <td>polls-plus</td>\n",
       "      <td>D</td>\n",
       "      <td>Biden</td>\n",
       "      <td>31.04658</td>\n",
       "      <td>26.553574</td>\n",
       "      <td>0.001625</td>\n",
       "      <td>0</td>\n",
       "    </tr>\n",
       "    <tr>\n",
       "      <th>2</th>\n",
       "      <td>2020</td>\n",
       "      <td>President</td>\n",
       "      <td>WI</td>\n",
       "      <td>NaN</td>\n",
       "      <td>2020-11-03</td>\n",
       "      <td>2020-11-03</td>\n",
       "      <td>polls-plus</td>\n",
       "      <td>R</td>\n",
       "      <td>Trump</td>\n",
       "      <td>45.37802</td>\n",
       "      <td>48.822437</td>\n",
       "      <td>0.056425</td>\n",
       "      <td>0</td>\n",
       "    </tr>\n",
       "    <tr>\n",
       "      <th>3</th>\n",
       "      <td>2020</td>\n",
       "      <td>President</td>\n",
       "      <td>WI</td>\n",
       "      <td>NaN</td>\n",
       "      <td>2020-11-03</td>\n",
       "      <td>2020-11-03</td>\n",
       "      <td>polls-plus</td>\n",
       "      <td>D</td>\n",
       "      <td>Biden</td>\n",
       "      <td>53.68898</td>\n",
       "      <td>49.449537</td>\n",
       "      <td>0.943575</td>\n",
       "      <td>1</td>\n",
       "    </tr>\n",
       "    <tr>\n",
       "      <th>4</th>\n",
       "      <td>2020</td>\n",
       "      <td>President</td>\n",
       "      <td>WV</td>\n",
       "      <td>NaN</td>\n",
       "      <td>2020-11-03</td>\n",
       "      <td>2020-11-03</td>\n",
       "      <td>polls-plus</td>\n",
       "      <td>R</td>\n",
       "      <td>Trump</td>\n",
       "      <td>64.48556</td>\n",
       "      <td>68.628270</td>\n",
       "      <td>0.992825</td>\n",
       "      <td>1</td>\n",
       "    </tr>\n",
       "    <tr>\n",
       "      <th>...</th>\n",
       "      <td>...</td>\n",
       "      <td>...</td>\n",
       "      <td>...</td>\n",
       "      <td>...</td>\n",
       "      <td>...</td>\n",
       "      <td>...</td>\n",
       "      <td>...</td>\n",
       "      <td>...</td>\n",
       "      <td>...</td>\n",
       "      <td>...</td>\n",
       "      <td>...</td>\n",
       "      <td>...</td>\n",
       "      <td>...</td>\n",
       "    </tr>\n",
       "    <tr>\n",
       "      <th>106965</th>\n",
       "      <td>2008</td>\n",
       "      <td>President</td>\n",
       "      <td>WI</td>\n",
       "      <td>NaN</td>\n",
       "      <td>2008-11-04</td>\n",
       "      <td>2008-11-04</td>\n",
       "      <td>NaN</td>\n",
       "      <td>R</td>\n",
       "      <td>NaN</td>\n",
       "      <td>NaN</td>\n",
       "      <td>NaN</td>\n",
       "      <td>0.000100</td>\n",
       "      <td>0</td>\n",
       "    </tr>\n",
       "    <tr>\n",
       "      <th>106966</th>\n",
       "      <td>2008</td>\n",
       "      <td>President</td>\n",
       "      <td>WY</td>\n",
       "      <td>NaN</td>\n",
       "      <td>2008-11-04</td>\n",
       "      <td>2008-11-04</td>\n",
       "      <td>NaN</td>\n",
       "      <td>D</td>\n",
       "      <td>NaN</td>\n",
       "      <td>NaN</td>\n",
       "      <td>NaN</td>\n",
       "      <td>0.000100</td>\n",
       "      <td>0</td>\n",
       "    </tr>\n",
       "    <tr>\n",
       "      <th>106967</th>\n",
       "      <td>2008</td>\n",
       "      <td>President</td>\n",
       "      <td>WY</td>\n",
       "      <td>NaN</td>\n",
       "      <td>2008-11-04</td>\n",
       "      <td>2008-11-04</td>\n",
       "      <td>NaN</td>\n",
       "      <td>R</td>\n",
       "      <td>NaN</td>\n",
       "      <td>NaN</td>\n",
       "      <td>NaN</td>\n",
       "      <td>0.999900</td>\n",
       "      <td>1</td>\n",
       "    </tr>\n",
       "    <tr>\n",
       "      <th>106968</th>\n",
       "      <td>2008</td>\n",
       "      <td>President</td>\n",
       "      <td>US</td>\n",
       "      <td>NaN</td>\n",
       "      <td>2008-11-04</td>\n",
       "      <td>2008-11-04</td>\n",
       "      <td>NaN</td>\n",
       "      <td>D</td>\n",
       "      <td>NaN</td>\n",
       "      <td>NaN</td>\n",
       "      <td>NaN</td>\n",
       "      <td>0.989000</td>\n",
       "      <td>1</td>\n",
       "    </tr>\n",
       "    <tr>\n",
       "      <th>106969</th>\n",
       "      <td>2008</td>\n",
       "      <td>President</td>\n",
       "      <td>US</td>\n",
       "      <td>NaN</td>\n",
       "      <td>2008-11-04</td>\n",
       "      <td>2008-11-04</td>\n",
       "      <td>NaN</td>\n",
       "      <td>R</td>\n",
       "      <td>NaN</td>\n",
       "      <td>NaN</td>\n",
       "      <td>NaN</td>\n",
       "      <td>0.011000</td>\n",
       "      <td>0</td>\n",
       "    </tr>\n",
       "  </tbody>\n",
       "</table>\n",
       "<p>106970 rows × 13 columns</p>\n",
       "</div>"
      ],
      "text/plain": [
       "        year     office state  district election_date forecast_date  \\\n",
       "0       2020  President    WY       NaN    2020-11-03    2020-11-03   \n",
       "1       2020  President    WY       NaN    2020-11-03    2020-11-03   \n",
       "2       2020  President    WI       NaN    2020-11-03    2020-11-03   \n",
       "3       2020  President    WI       NaN    2020-11-03    2020-11-03   \n",
       "4       2020  President    WV       NaN    2020-11-03    2020-11-03   \n",
       "...      ...        ...   ...       ...           ...           ...   \n",
       "106965  2008  President    WI       NaN    2008-11-04    2008-11-04   \n",
       "106966  2008  President    WY       NaN    2008-11-04    2008-11-04   \n",
       "106967  2008  President    WY       NaN    2008-11-04    2008-11-04   \n",
       "106968  2008  President    US       NaN    2008-11-04    2008-11-04   \n",
       "106969  2008  President    US       NaN    2008-11-04    2008-11-04   \n",
       "\n",
       "       forecast_type party candidate  projected_voteshare  actual_voteshare  \\\n",
       "0         polls-plus     R     Trump             65.77760         69.936227   \n",
       "1         polls-plus     D     Biden             31.04658         26.553574   \n",
       "2         polls-plus     R     Trump             45.37802         48.822437   \n",
       "3         polls-plus     D     Biden             53.68898         49.449537   \n",
       "4         polls-plus     R     Trump             64.48556         68.628270   \n",
       "...              ...   ...       ...                  ...               ...   \n",
       "106965           NaN     R       NaN                  NaN               NaN   \n",
       "106966           NaN     D       NaN                  NaN               NaN   \n",
       "106967           NaN     R       NaN                  NaN               NaN   \n",
       "106968           NaN     D       NaN                  NaN               NaN   \n",
       "106969           NaN     R       NaN                  NaN               NaN   \n",
       "\n",
       "         probwin  probwin_outcome  \n",
       "0       0.998375                1  \n",
       "1       0.001625                0  \n",
       "2       0.056425                0  \n",
       "3       0.943575                1  \n",
       "4       0.992825                1  \n",
       "...          ...              ...  \n",
       "106965  0.000100                0  \n",
       "106966  0.000100                0  \n",
       "106967  0.999900                1  \n",
       "106968  0.989000                1  \n",
       "106969  0.011000                0  \n",
       "\n",
       "[106970 rows x 13 columns]"
      ]
     },
     "execution_count": 196,
     "metadata": {},
     "output_type": "execute_result"
    }
   ],
   "source": [
    "data = pd.read_csv('presidential_elections.csv')\n",
    "data"
   ]
  },
  {
   "cell_type": "code",
   "execution_count": 197,
   "id": "4aab6741-8bc0-4a4d-9074-7021f3f7aaae",
   "metadata": {
    "scrolled": true
   },
   "outputs": [
    {
     "data": {
      "image/png": "[encoded data removed]",
      "text/plain": [
       "<Figure size 640x480 with 1 Axes>"
      ]
     },
     "metadata": {},
     "output_type": "display_data"
    }
   ],
   "source": [
    "# just in case any 0 or 100% probabilities were included in the dataset given they say, \"We have removed all 100 percent and 0 percent forecasts for events that were guaranteed or impossible from this analysis; for example, any forecasts made after a team was eliminated from a postseason race or forecasts for uncontested elections that were not on the ballot.\" https://projects.fivethirtyeight.com/checking-our-work/presidential-elections/\n",
    "df = data[(data['probwin'] > 0) & (data['probwin'] < 1)]\n",
    "\n",
    "# \"When calculating the calibration and skill scores for forecasts that we updated over time, such as election forecasts that we updated every day, we weighted each update by the inverse of the number of updates issued. That way, we counted each forecasted event equally, regardless of how many updates we issued to the forecast. We applied the same weights when calculating the confidence intervals.\" https://projects.fivethirtyeight.com/checking-our-work/presidential-elections/\n",
    "\n",
    "df = df.copy()  # Avoid SettingWithCopyWarning by creating a copy\n",
    "df['weight'] = df.groupby(['year', 'state', 'candidate'])['probwin'].transform('count')\n",
    "df['weight'] = 1 / df['weight']\n",
    "df.dropna(subset=['weight'], inplace=True)\n",
    "plt.hist(df['weight'])\n",
    "plt.show()"
   ]
  },
  {
   "cell_type": "markdown",
   "id": "a2479d9b-eb74-419a-81d3-b6b79133e1a0",
   "metadata": {},
   "source": [
    "# Calibration Plot"
   ]
  },
  {
   "cell_type": "code",
   "execution_count": 198,
   "id": "1aceb893-f3c6-47cc-b24b-4fdb35d83f5f",
   "metadata": {},
   "outputs": [],
   "source": [
    "bins = np.linspace(0, 1, 21)\n",
    "df['prob_bin'] = pd.cut(df['probwin'], bins, include_lowest=True)\n",
    "grouped = df.groupby('prob_bin', observed=False)"
   ]
  },
  {
   "cell_type": "code",
   "execution_count": 199,
   "id": "4d392227-ef62-4940-98d4-2a4b910af980",
   "metadata": {},
   "outputs": [],
   "source": [
    "def calculate_calibration(group):\n",
    "    if len(group) == 0:\n",
    "        return pd.Series({'mean_pred_prob': np.nan, 'actual_outcome': np.nan, 'count': 0})\n",
    "    mean_pred_prob = np.average(group['probwin'], weights=group['weight'])\n",
    "    actual_outcome = np.average(group['probwin_outcome'], weights=group['weight'])\n",
    "    count = group['probwin'].count()\n",
    "    return pd.Series({'mean_pred_prob': mean_pred_prob, 'actual_outcome': actual_outcome, 'count': count})"
   ]
  },
  {
   "cell_type": "code",
   "execution_count": 200,
   "id": "635b23fd-4629-4ee1-8995-1694a35866d6",
   "metadata": {},
   "outputs": [
    {
     "name": "stderr",
     "output_type": "stream",
     "text": [
      "/var/folders/00/5h0ls8v57z52470dh9jw256r0000gn/T/ipykernel_5413/1279863919.py:1: DeprecationWarning: DataFrameGroupBy.apply operated on the grouping columns. This behavior is deprecated, and in a future version of pandas the grouping columns will be excluded from the operation. Either pass `include_groups=False` to exclude the groupings or explicitly select the grouping columns after groupby to silence this warning.\n",
      "  calibration = grouped.apply(calculate_calibration).reset_index()\n"
     ]
    }
   ],
   "source": [
    "calibration = grouped.apply(calculate_calibration).reset_index()"
   ]
  },
  {
   "cell_type": "code",
   "execution_count": 201,
   "id": "c824076b-a424-4599-9831-0e74fe8486fb",
   "metadata": {},
   "outputs": [],
   "source": [
    "def bootstrap_ci(data, weights, n_bootstraps=1000, ci=95):\n",
    "    bootstraps = np.random.choice(data, (n_bootstraps, len(data)), replace=True, p=weights/weights.sum())\n",
    "    stats = np.mean(bootstraps, axis=1)\n",
    "    lower_bound = np.percentile(stats, (100 - ci) / 2)\n",
    "    upper_bound = np.percentile(stats, 100 - (100 - ci) / 2)\n",
    "    return lower_bound, upper_bound"
   ]
  },
  {
   "cell_type": "code",
   "execution_count": 202,
   "id": "1c965669-2df1-45ad-933f-3dc1a435c48c",
   "metadata": {},
   "outputs": [],
   "source": [
    "calibration['lower_ci'], calibration['upper_ci'] = zip(*calibration.apply(\n",
    "    lambda row: bootstrap_ci(df[df['prob_bin'] == row['prob_bin']]['probwin_outcome'], \n",
    "                             df[df['prob_bin'] == row['prob_bin']]['weight']), axis=1))"
   ]
  },
  {
   "cell_type": "code",
   "execution_count": 203,
   "id": "f4834ab8-3f5d-43bd-bd20-11b8b7fbea82",
   "metadata": {},
   "outputs": [],
   "source": [
    "calibration['point_size'] = calibration['count'] / calibration['count'].max() * 50"
   ]
  },
  {
   "cell_type": "code",
   "execution_count": 204,
   "id": "2be3386b-77b9-4737-80ed-e8097252a755",
   "metadata": {},
   "outputs": [
    {
     "data": {
      "image/png": "[encoded data removed]",
      "text/plain": [
       "<Figure size 1000x600 with 1 Axes>"
      ]
     },
     "metadata": {},
     "output_type": "display_data"
    }
   ],
   "source": [
    "plt.figure(figsize=(10, 6))\n",
    "\n",
    "for idx, row in calibration.iterrows():\n",
    "    if pd.notna(row['lower_ci']) and pd.notna(row['upper_ci']):\n",
    "        plt.errorbar(row['mean_pred_prob'], row['actual_outcome'], \n",
    "                     yerr=[[row['actual_outcome'] - row['lower_ci']], [row['upper_ci'] - row['actual_outcome']]],\n",
    "                     fmt='o', markersize=row['point_size']*0.5, alpha=0.5, color='blue', capsize=3, capthick=1, elinewidth=1)\n",
    "\n",
    "plt.plot([0, 1], [0, 1], linestyle='--', color='gray')\n",
    "plt.xlabel('Predicted Probability')\n",
    "plt.ylabel('Actual Outcome')\n",
    "plt.title('Calibration Plot')\n",
    "plt.grid(True)\n",
    "plt.show()"
   ]
  },
  {
   "cell_type": "markdown",
   "id": "b8080c91-3fd5-4456-a172-c9e8465c410d",
   "metadata": {},
   "source": [
    "# Brier Skill Score"
   ]
  },
  {
   "cell_type": "code",
   "execution_count": 205,
   "id": "25a47a04-1400-49c6-9a2d-0a6244e8a832",
   "metadata": {},
   "outputs": [],
   "source": [
    "df.dropna(subset=['weight', 'probwin', 'probwin_outcome'], inplace=True)"
   ]
  },
  {
   "cell_type": "code",
   "execution_count": 206,
   "id": "92323787-c382-462c-8559-6292926454df",
   "metadata": {},
   "outputs": [],
   "source": [
    "# brier score\n",
    "def brier_score(forecasts, outcomes, weights):\n",
    "    return np.average((forecasts - outcomes) ** 2, weights=weights)\n",
    "\n",
    "# reference brier score\n",
    "def reference_brier_score(outcomes, weights):\n",
    "    o_bar = np.average(outcomes, weights=weights)\n",
    "    return np.average((o_bar - outcomes) ** 2, weights=weights)\n",
    "\n",
    "# rrier skill score\n",
    "def brier_skill_score(forecasts, outcomes, weights):\n",
    "    bs = brier_score(forecasts, outcomes, weights)\n",
    "    bs_ref = reference_brier_score(outcomes, weights)\n",
    "    return 1 - (bs / bs_ref)"
   ]
  },
  {
   "cell_type": "code",
   "execution_count": 207,
   "id": "854cb2b1-e49d-45a0-9062-49e1b0c4d610",
   "metadata": {},
   "outputs": [
    {
     "name": "stdout",
     "output_type": "stream",
     "text": [
      "0.7776970004538503\n"
     ]
    }
   ],
   "source": [
    "forecasts = df['probwin']\n",
    "outcomes = df['probwin_outcome']\n",
    "weights = df['weight']\n",
    "\n",
    "bss = brier_skill_score(forecasts, outcomes, weights)\n",
    "print(bss)"
   ]
  },
  {
   "cell_type": "code",
   "execution_count": null,
   "id": "e9b32dc5-2ff2-4097-aae2-57483b7414ef",
   "metadata": {},
   "outputs": [],
   "source": []
  },
  {
   "cell_type": "code",
   "execution_count": null,
   "id": "93b7d024-4fc0-44db-8f7a-1279dbaf8961",
   "metadata": {},
   "outputs": [],
   "source": []
  },
  {
   "cell_type": "code",
   "execution_count": null,
   "id": "b82cb24d-3f2e-4fc4-8d46-c062521ea0ef",
   "metadata": {},
   "outputs": [],
   "source": []
  }
 ],
 "metadata": {
  "kernelspec": {
   "display_name": "Python 3 (ipykernel)",
   "language": "python",
   "name": "python3"
  },
  "language_info": {
   "codemirror_mode": {
    "name": "ipython",
    "version": 3
   },
   "file_extension": ".py",
   "mimetype": "text/x-python",
   "name": "python",
   "nbconvert_exporter": "python",
   "pygments_lexer": "ipython3",
   "version": "3.9.6"
  }
 },
 "nbformat": 4,
 "nbformat_minor": 5
}
